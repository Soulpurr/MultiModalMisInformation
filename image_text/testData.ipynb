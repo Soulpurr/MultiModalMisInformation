{
 "cells": [
  {
   "cell_type": "code",
   "execution_count": 19,
   "id": "6e413a29",
   "metadata": {},
   "outputs": [],
   "source": [
    "import os\n",
    "import pandas as pd\n",
    "\n",
    "# Load your CSV\n",
    "df = pd.read_csv(\"./data/my_dataframe_part2.csv\")  # Ensure this has an 'id' column\n",
    "\n",
    "# Directory containing images\n",
    "image_dir = \"images\"\n",
    "\n",
    "# Supported image extensions (update if you use other formats)\n",
    "extensions = [\".jpg\", \".jpeg\", \".png\"]\n",
    "\n"
   ]
  },
  {
   "cell_type": "code",
   "execution_count": 20,
   "id": "f0b45e6b",
   "metadata": {},
   "outputs": [
    {
     "name": "stdout",
     "output_type": "stream",
     "text": [
      "Filtered DataFrame shape: (5292, 14)\n"
     ]
    }
   ],
   "source": [
    "# Helper function to check image existence\n",
    "def image_exists(image_id):\n",
    "    return any(os.path.isfile(os.path.join(image_dir, f\"{image_id}{ext}\")) for ext in extensions)\n",
    "\n",
    "# Filter rows where image file exists\n",
    "df[\"image_found\"] = df[\"id\"].apply(image_exists)\n",
    "filtered_df = df[df[\"image_found\"]].copy()\n",
    "\n",
    "# Add image path column for convenience\n",
    "def get_image_path(image_id):\n",
    "    for ext in extensions:\n",
    "        path = os.path.join(image_dir, f\"{image_id}{ext}\")\n",
    "        if os.path.isfile(path):\n",
    "            return path\n",
    "    return None\n",
    "\n",
    "filtered_df[\"image_path\"] = filtered_df[\"id\"].apply(get_image_path)\n",
    "\n",
    "# Drop helper column\n",
    "filtered_df.drop(columns=[\"image_found\"], inplace=True)\n",
    "\n",
    "# Save the cleaned DataFrame (optional)\n",
    "filtered_df.to_csv(\"test_cleaned2.csv\", index=False)\n",
    "\n",
    "print(f\"Filtered DataFrame shape: {filtered_df.shape}\")\n"
   ]
  },
  {
   "cell_type": "code",
   "execution_count": 21,
   "id": "91392319",
   "metadata": {},
   "outputs": [
    {
     "data": {
      "text/html": [
       "<div>\n",
       "<style scoped>\n",
       "    .dataframe tbody tr th:only-of-type {\n",
       "        vertical-align: middle;\n",
       "    }\n",
       "\n",
       "    .dataframe tbody tr th {\n",
       "        vertical-align: top;\n",
       "    }\n",
       "\n",
       "    .dataframe thead th {\n",
       "        text-align: right;\n",
       "    }\n",
       "</style>\n",
       "<table border=\"1\" class=\"dataframe\">\n",
       "  <thead>\n",
       "    <tr style=\"text-align: right;\">\n",
       "      <th></th>\n",
       "      <th>author</th>\n",
       "      <th>clean_title</th>\n",
       "      <th>created_utc</th>\n",
       "      <th>domain</th>\n",
       "      <th>hasImage</th>\n",
       "      <th>id</th>\n",
       "      <th>image_url</th>\n",
       "      <th>linked_submission_id</th>\n",
       "      <th>num_comments</th>\n",
       "      <th>score</th>\n",
       "      <th>subreddit</th>\n",
       "      <th>upvote_ratio</th>\n",
       "      <th>6_way_label</th>\n",
       "      <th>image_found</th>\n",
       "    </tr>\n",
       "  </thead>\n",
       "  <tbody>\n",
       "    <tr>\n",
       "      <th>0</th>\n",
       "      <td>ekita079</td>\n",
       "      <td>my salt lamp grew a stalagmite</td>\n",
       "      <td>1.563605e+09</td>\n",
       "      <td>i.redd.it</td>\n",
       "      <td>True</td>\n",
       "      <td>cfiul7</td>\n",
       "      <td>https://preview.redd.it/glk7e2p6neb31.jpg?widt...</td>\n",
       "      <td>NaN</td>\n",
       "      <td>19.0</td>\n",
       "      <td>59</td>\n",
       "      <td>mildlyinteresting</td>\n",
       "      <td>0.96</td>\n",
       "      <td>0</td>\n",
       "      <td>False</td>\n",
       "    </tr>\n",
       "    <tr>\n",
       "      <th>1</th>\n",
       "      <td>Captain_Penguin_</td>\n",
       "      <td>falling sky dreams of yesterday</td>\n",
       "      <td>1.502822e+09</td>\n",
       "      <td>i.redd.it</td>\n",
       "      <td>True</td>\n",
       "      <td>6tw3zp</td>\n",
       "      <td>https://preview.redd.it/d20qojw83yfz.png?width...</td>\n",
       "      <td>NaN</td>\n",
       "      <td>3.0</td>\n",
       "      <td>3</td>\n",
       "      <td>fakealbumcovers</td>\n",
       "      <td>1.00</td>\n",
       "      <td>1</td>\n",
       "      <td>False</td>\n",
       "    </tr>\n",
       "    <tr>\n",
       "      <th>2</th>\n",
       "      <td>menmybabies</td>\n",
       "      <td>clint eastwood saves tournament director from ...</td>\n",
       "      <td>1.391801e+09</td>\n",
       "      <td>movies.yahoo.com</td>\n",
       "      <td>True</td>\n",
       "      <td>1xam21</td>\n",
       "      <td>https://external-preview.redd.it/BiPb9NA5dss2n...</td>\n",
       "      <td>NaN</td>\n",
       "      <td>0.0</td>\n",
       "      <td>8</td>\n",
       "      <td>upliftingnews</td>\n",
       "      <td>1.00</td>\n",
       "      <td>0</td>\n",
       "      <td>False</td>\n",
       "    </tr>\n",
       "    <tr>\n",
       "      <th>3</th>\n",
       "      <td>glowaboga</td>\n",
       "      <td>cult drugs by blood command</td>\n",
       "      <td>1.570038e+09</td>\n",
       "      <td>i.redd.it</td>\n",
       "      <td>True</td>\n",
       "      <td>dcdmwt</td>\n",
       "      <td>https://preview.redd.it/svo7c9f406q31.png?widt...</td>\n",
       "      <td>NaN</td>\n",
       "      <td>1.0</td>\n",
       "      <td>8</td>\n",
       "      <td>fakealbumcovers</td>\n",
       "      <td>0.83</td>\n",
       "      <td>1</td>\n",
       "      <td>True</td>\n",
       "    </tr>\n",
       "    <tr>\n",
       "      <th>4</th>\n",
       "      <td>crazy_gnome</td>\n",
       "      <td>im the first person to shazam this song</td>\n",
       "      <td>1.570235e+09</td>\n",
       "      <td>i.redd.it</td>\n",
       "      <td>True</td>\n",
       "      <td>ddfzvv</td>\n",
       "      <td>https://preview.redd.it/8vft18wi8mq31.jpg?widt...</td>\n",
       "      <td>NaN</td>\n",
       "      <td>1.0</td>\n",
       "      <td>6</td>\n",
       "      <td>mildlyinteresting</td>\n",
       "      <td>0.80</td>\n",
       "      <td>0</td>\n",
       "      <td>False</td>\n",
       "    </tr>\n",
       "  </tbody>\n",
       "</table>\n",
       "</div>"
      ],
      "text/plain": [
       "             author                                        clean_title  \\\n",
       "0          ekita079                     my salt lamp grew a stalagmite   \n",
       "1  Captain_Penguin_                    falling sky dreams of yesterday   \n",
       "2       menmybabies  clint eastwood saves tournament director from ...   \n",
       "3         glowaboga                        cult drugs by blood command   \n",
       "4       crazy_gnome            im the first person to shazam this song   \n",
       "\n",
       "    created_utc            domain  hasImage      id  \\\n",
       "0  1.563605e+09         i.redd.it      True  cfiul7   \n",
       "1  1.502822e+09         i.redd.it      True  6tw3zp   \n",
       "2  1.391801e+09  movies.yahoo.com      True  1xam21   \n",
       "3  1.570038e+09         i.redd.it      True  dcdmwt   \n",
       "4  1.570235e+09         i.redd.it      True  ddfzvv   \n",
       "\n",
       "                                           image_url linked_submission_id  \\\n",
       "0  https://preview.redd.it/glk7e2p6neb31.jpg?widt...                  NaN   \n",
       "1  https://preview.redd.it/d20qojw83yfz.png?width...                  NaN   \n",
       "2  https://external-preview.redd.it/BiPb9NA5dss2n...                  NaN   \n",
       "3  https://preview.redd.it/svo7c9f406q31.png?widt...                  NaN   \n",
       "4  https://preview.redd.it/8vft18wi8mq31.jpg?widt...                  NaN   \n",
       "\n",
       "   num_comments  score          subreddit  upvote_ratio  6_way_label  \\\n",
       "0          19.0     59  mildlyinteresting          0.96            0   \n",
       "1           3.0      3    fakealbumcovers          1.00            1   \n",
       "2           0.0      8      upliftingnews          1.00            0   \n",
       "3           1.0      8    fakealbumcovers          0.83            1   \n",
       "4           1.0      6  mildlyinteresting          0.80            0   \n",
       "\n",
       "   image_found  \n",
       "0        False  \n",
       "1        False  \n",
       "2        False  \n",
       "3         True  \n",
       "4        False  "
      ]
     },
     "execution_count": 21,
     "metadata": {},
     "output_type": "execute_result"
    }
   ],
   "source": [
    "df.head()"
   ]
  },
  {
   "cell_type": "code",
   "execution_count": 18,
   "id": "b0437462",
   "metadata": {},
   "outputs": [
    {
     "name": "stdout",
     "output_type": "stream",
     "text": [
      "Filtered DataFrame shape: (5322, 14)\n"
     ]
    }
   ],
   "source": [
    "def image_exists(image_id):\n",
    "    return any(os.path.isfile(os.path.join(image_dir, f\"{image_id}{ext}\")) for ext in extensions)\n",
    "\n",
    "# Filter rows where image file exists\n",
    "df[\"image_found\"] = df[\"id\"].apply(image_exists)\n",
    "filtered_df = df[df[\"image_found\"]].copy()\n",
    "\n",
    "# Add image path column for convenience\n",
    "def get_image_path(image_id):\n",
    "    for ext in extensions:\n",
    "        path = os.path.join(image_dir, f\"{image_id}{ext}\")\n",
    "        if os.path.isfile(path):\n",
    "            return path\n",
    "    return None\n",
    "\n",
    "filtered_df[\"image_path\"] = filtered_df[\"id\"].apply(get_image_path)\n",
    "\n",
    "# Drop helper column\n",
    "filtered_df.drop(columns=[\"image_found\"], inplace=True)\n",
    "\n",
    "# Save the cleaned DataFrame (optional)\n",
    "filtered_df.to_csv(\"test_cleaned.csv\", index=False)\n",
    "\n",
    "print(f\"Filtered DataFrame shape: {filtered_df.shape}\")"
   ]
  },
  {
   "cell_type": "code",
   "execution_count": 23,
   "id": "c9a29e09",
   "metadata": {},
   "outputs": [],
   "source": [
    "df1=pd.read_csv(\"./data/test_cleaned2.csv\")"
   ]
  },
  {
   "cell_type": "code",
   "execution_count": 8,
   "id": "9ea79918",
   "metadata": {},
   "outputs": [
    {
     "data": {
      "text/plain": [
       "(5322, 14)"
      ]
     },
     "execution_count": 8,
     "metadata": {},
     "output_type": "execute_result"
    }
   ],
   "source": [
    "df1.shape"
   ]
  },
  {
   "cell_type": "code",
   "execution_count": null,
   "id": "d9b9ac71",
   "metadata": {},
   "outputs": [],
   "source": []
  }
 ],
 "metadata": {
  "kernelspec": {
   "display_name": "torch",
   "language": "python",
   "name": "python3"
  },
  "language_info": {
   "codemirror_mode": {
    "name": "ipython",
    "version": 3
   },
   "file_extension": ".py",
   "mimetype": "text/x-python",
   "name": "python",
   "nbconvert_exporter": "python",
   "pygments_lexer": "ipython3",
   "version": "3.10.17"
  }
 },
 "nbformat": 4,
 "nbformat_minor": 5
}
